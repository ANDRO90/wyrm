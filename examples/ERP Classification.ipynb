{
 "metadata": {
  "name": "ERP Classification"
 },
 "nbformat": 3,
 "nbformat_minor": 0,
 "worksheets": [
  {
   "cells": [
    {
     "cell_type": "code",
     "collapsed": false,
     "input": [
      "# ERP Classification Example\n",
      "# roughly based on /svn/bbci/toolbox/demos/stdERPclassification.m"
     ],
     "language": "python",
     "metadata": {},
     "outputs": [],
     "prompt_number": 1
    },
    {
     "cell_type": "code",
     "collapsed": false,
     "input": [
      "from __future__ import division\n",
      "\n",
      "import numpy as np\n",
      "from matplotlib import pyplot as plt\n",
      "from sklearn.lda import LDA\n",
      "from sklearn.qda import QDA\n",
      "\n",
      "from wyrm import misc\n",
      "from wyrm import plot"
     ],
     "language": "python",
     "metadata": {},
     "outputs": [],
     "prompt_number": 1
    },
    {
     "cell_type": "code",
     "collapsed": false,
     "input": [
      "# load bv data into cnt\n",
      "cnt = misc.load_brain_vision_data('data/OnlineTrainFileVPfaz.vhdr')\n",
      "# remove unneeded channels\n",
      "cnt = misc.remove_channels(cnt, ['EOG.*', 'Mas.*'])\n",
      "# bandpass filter the data\n",
      "cnt = misc.band_pass(cnt, 2, 40)\n",
      "# subsampling by factor 10\n",
      "cnt = misc.subsample(cnt, 10)\n",
      "# epoch the data\n",
      "mrk_def = {'std': ['S %2i' % i for i in range(2, 7)],\n",
      "           'dev': ['S %2i' % i for i in range(12, 17)]\n",
      "           }\n",
      "epo = misc.cnt_to_epo(cnt, mrk_def, [0, 800])"
     ],
     "language": "python",
     "metadata": {},
     "outputs": [],
     "prompt_number": 12
    },
    {
     "cell_type": "code",
     "collapsed": false,
     "input": [
      "# create the feature vector\n",
      "# make sure you don't apply information from the test set to the training set"
     ],
     "language": "python",
     "metadata": {},
     "outputs": [],
     "prompt_number": 13
    },
    {
     "cell_type": "code",
     "collapsed": false,
     "input": [
      "std = epo.data[epo.classes == 1]\n",
      "dev = epo.data[epo.classes == 0]\n",
      "std_split = std.shape[0] // 2\n",
      "dev_split = dev.shape[0] // 2\n",
      "std1, std2 = std[:std_split], std[std_split:]\n",
      "dev1, dev2 = dev[:dev_split], dev[dev_split:]\n",
      "train = np.append(std1, dev1, axis=0)\n",
      "#train = train.reshape((len(train), -1))\n",
      "train = np.var(train, axis=1)\n",
      "train_labels = np.append(np.zeros(len(std1)), np.ones(len(dev1)))\n",
      "test = np.append(std2, dev2, axis=0)\n",
      "#test = test.reshape((len(test), -1))\n",
      "test = np.var(test, axis=1)\n",
      "test_labels = np.append(np.zeros(len(std2)), np.ones(len(dev2)))"
     ],
     "language": "python",
     "metadata": {},
     "outputs": [],
     "prompt_number": 14
    },
    {
     "cell_type": "code",
     "collapsed": false,
     "input": [
      "# howto use the LDA\n",
      "clf = LDA()\n",
      "# split your data into training and test set\n",
      "# See also: cross validation\n",
      "# train your classifier\n",
      "clf.fit(train, train_labels)\n",
      "# predict your data\n",
      "# clf.predict(data)\n",
      "# get the accuracy for known data\n",
      "print 'LDA Classification Accuracy: %.2f' % clf.score(test, test_labels)"
     ],
     "language": "python",
     "metadata": {},
     "outputs": [
      {
       "output_type": "stream",
       "stream": "stdout",
       "text": [
        "LDA Classification Accuracy: 0.81\n"
       ]
      }
     ],
     "prompt_number": 15
    },
    {
     "cell_type": "code",
     "collapsed": false,
     "input": [
      "# Just for the Lulz: QDA\n",
      "clf = QDA()\n",
      "clf.fit(train, train_labels)\n",
      "print 'QDA Classification Accuracy: %.2f' % clf.score(test, test_labels)"
     ],
     "language": "python",
     "metadata": {},
     "outputs": [
      {
       "output_type": "stream",
       "stream": "stdout",
       "text": [
        "QDA Classification Accuracy: 0.83\n"
       ]
      }
     ],
     "prompt_number": 16
    },
    {
     "cell_type": "code",
     "collapsed": false,
     "input": [
      "from sklearn import cross_validation"
     ],
     "language": "python",
     "metadata": {},
     "outputs": [],
     "prompt_number": 17
    },
    {
     "cell_type": "code",
     "collapsed": false,
     "input": [
      "skf = cross_validation.StratifiedKFold(epo.classes, 10)\n",
      "for train_i, test_i in skf:\n",
      "    train = epo.data[train_i]\n",
      "    train = np.var(train, axis=1)\n",
      "    train_labels = epo.classes[train_i]\n",
      "    test = epo.data[test_i]\n",
      "    test = np.var(test, axis=1)\n",
      "    test_labels = epo.classes[test_i]\n",
      "    clf_lda, clf_qda = LDA(), QDA()\n",
      "    clf_lda.fit(train, train_labels)\n",
      "    clf_qda.fit(train, train_labels)\n",
      "    print 'LDA/QDA Classification Accuracy: %.2f/%.2f' % (clf_lda.score(test, test_labels), clf_qda.score(test, test_labels))"
     ],
     "language": "python",
     "metadata": {},
     "outputs": [
      {
       "output_type": "stream",
       "stream": "stdout",
       "text": [
        "LDA/QDA Classification Accuracy: 0.83/0.64\n",
        "LDA/QDA Classification Accuracy: 0.83/0.67"
       ]
      },
      {
       "output_type": "stream",
       "stream": "stdout",
       "text": [
        "\n",
        "LDA/QDA Classification Accuracy: 0.80/0.62"
       ]
      },
      {
       "output_type": "stream",
       "stream": "stdout",
       "text": [
        "\n",
        "LDA/QDA Classification Accuracy: 0.82/0.64"
       ]
      },
      {
       "output_type": "stream",
       "stream": "stdout",
       "text": [
        "\n",
        "LDA/QDA Classification Accuracy: 0.81/0.73"
       ]
      },
      {
       "output_type": "stream",
       "stream": "stdout",
       "text": [
        "\n",
        "LDA/QDA Classification Accuracy: 0.83/0.71"
       ]
      },
      {
       "output_type": "stream",
       "stream": "stdout",
       "text": [
        "\n",
        "LDA/QDA Classification Accuracy: 0.83/0.77"
       ]
      },
      {
       "output_type": "stream",
       "stream": "stdout",
       "text": [
        "\n",
        "LDA/QDA Classification Accuracy: 0.80/0.72"
       ]
      },
      {
       "output_type": "stream",
       "stream": "stdout",
       "text": [
        "\n",
        "LDA/QDA Classification Accuracy: 0.79/0.71"
       ]
      },
      {
       "output_type": "stream",
       "stream": "stdout",
       "text": [
        "\n",
        "LDA/QDA Classification Accuracy: 0.82/0.62"
       ]
      },
      {
       "output_type": "stream",
       "stream": "stdout",
       "text": [
        "\n"
       ]
      }
     ],
     "prompt_number": 33
    },
    {
     "cell_type": "code",
     "collapsed": false,
     "input": [
      "cross_validation.check_arrays("
     ],
     "language": "python",
     "metadata": {},
     "outputs": [
      {
       "output_type": "pyout",
       "prompt_number": 20,
       "text": [
        "<function sklearn.utils.validation.check_arrays>"
       ]
      }
     ],
     "prompt_number": 20
    }
   ],
   "metadata": {}
  }
 ]
}