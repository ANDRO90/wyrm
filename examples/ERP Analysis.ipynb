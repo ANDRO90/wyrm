{
 "metadata": {
  "name": "ERP Analysis"
 },
 "nbformat": 3,
 "nbformat_minor": 0,
 "worksheets": [
  {
   "cells": [
    {
     "cell_type": "code",
     "collapsed": false,
     "input": [
      "# ERP Analysis Example\n",
      "# roughly based on /svn/bbci/toolbox/demos/stdERPanalysis.m"
     ],
     "language": "python",
     "metadata": {},
     "outputs": [],
     "prompt_number": 1
    },
    {
     "cell_type": "code",
     "collapsed": false,
     "input": [
      "from __future__ import division\n",
      "\n",
      "import numpy as np\n",
      "from matplotlib import pyplot as plt\n",
      "\n",
      "from wyrm import misc\n",
      "from wyrm import plot"
     ],
     "language": "python",
     "metadata": {},
     "outputs": [],
     "prompt_number": 28
    },
    {
     "cell_type": "code",
     "collapsed": false,
     "input": [
      "# load bv data into cnt\n",
      "cnt = misc.load_brain_vision_data('data/OnlineTrainFileVPfaz.vhdr')"
     ],
     "language": "python",
     "metadata": {},
     "outputs": [],
     "prompt_number": 29
    },
    {
     "cell_type": "code",
     "collapsed": false,
     "input": [
      "# remove unneeded channels\n",
      "cnt = misc.remove_channels(cnt, ['EOG.*', 'Mas.*'])"
     ],
     "language": "python",
     "metadata": {},
     "outputs": [],
     "prompt_number": 30
    },
    {
     "cell_type": "code",
     "collapsed": false,
     "input": [
      "# bandpass filter the data\n",
      "cnt = misc.band_pass(cnt, 2, 40)"
     ],
     "language": "python",
     "metadata": {},
     "outputs": [],
     "prompt_number": 31
    },
    {
     "cell_type": "code",
     "collapsed": false,
     "input": [
      "# subsampling by factor 10\n",
      "cnt = misc.subsample(cnt, 10)"
     ],
     "language": "python",
     "metadata": {},
     "outputs": [],
     "prompt_number": 32
    },
    {
     "cell_type": "code",
     "collapsed": false,
     "input": [
      "# TODO: rereferencing?"
     ],
     "language": "python",
     "metadata": {},
     "outputs": [],
     "prompt_number": 33
    },
    {
     "cell_type": "code",
     "collapsed": false,
     "input": [
      "# epoch the data\n",
      "mrk_def = {'std': ['S %2i' % i for i in range(2, 7)],\n",
      "           'dev': ['S %2i' % i for i in range(12, 17)]\n",
      "           }\n",
      "epo = misc.segment_cnt(cnt, mrk_def, [-150, 800])"
     ],
     "language": "python",
     "metadata": {},
     "outputs": [],
     "prompt_number": 34
    },
    {
     "cell_type": "code",
     "collapsed": false,
     "input": [
      "# TODO: artifact rejection"
     ],
     "language": "python",
     "metadata": {},
     "outputs": [],
     "prompt_number": 35
    },
    {
     "cell_type": "code",
     "collapsed": false,
     "input": [
      "# TODO: compute disciminability\n",
      "# proc_r_square_signed"
     ],
     "language": "python",
     "metadata": {},
     "outputs": [],
     "prompt_number": 36
    },
    {
     "cell_type": "code",
     "collapsed": false,
     "input": [
      "avg_epo = misc.calculate_classwise_average(epo)"
     ],
     "language": "python",
     "metadata": {},
     "outputs": [],
     "prompt_number": 37
    },
    {
     "cell_type": "code",
     "collapsed": false,
     "input": [
      "for i, e in enumerate(avg_epo):\n",
      "    plot.plot_channels(e, markers=False)\n",
      "    \n",
      "plt.legend(avg_epo.class_names)\n",
      "plt.show()"
     ],
     "language": "python",
     "metadata": {},
     "outputs": [],
     "prompt_number": 38
    },
    {
     "cell_type": "code",
     "collapsed": false,
     "input": [
      "plot.plot_channels(epo[100])\n",
      "plt.show()"
     ],
     "language": "python",
     "metadata": {},
     "outputs": [],
     "prompt_number": 39
    },
    {
     "cell_type": "code",
     "collapsed": false,
     "input": [],
     "language": "python",
     "metadata": {},
     "outputs": []
    }
   ],
   "metadata": {}
  }
 ]
}