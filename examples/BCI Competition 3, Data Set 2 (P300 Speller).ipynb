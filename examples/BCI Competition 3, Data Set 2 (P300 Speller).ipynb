{
 "metadata": {
  "name": "BCI Competition 3, Data Set 2 (P300 Speller)"
 },
 "nbformat": 3,
 "nbformat_minor": 0,
 "worksheets": [
  {
   "cells": [
    {
     "cell_type": "markdown",
     "metadata": {},
     "source": [
      "### Getting the Dataset\n",
      "\n",
      "This example uses the [Data Set 2][bcicomp3ds2] from the BCI Competition 3. After downloading and copying it into a directory called `data` next to this script, you should be able to follow this example.\n",
      "\n",
      "[bcicomp3ds2]: http://www.bbci.de/competition/iii/#data_set_ii\n"
     ]
    },
    {
     "cell_type": "code",
     "collapsed": false,
     "input": [
      "from __future__ import division\n",
      "\n",
      "import numpy as np\n",
      "import scipy as sp\n",
      "from scipy.io import loadmat\n",
      "from matplotlib import pyplot as plt\n",
      "from sklearn import cross_validation\n",
      "\n",
      "from wyrm import plot\n",
      "from wyrm.types import Data\n",
      "from wyrm import processing as proc"
     ],
     "language": "python",
     "metadata": {},
     "outputs": [],
     "prompt_number": 1
    },
    {
     "cell_type": "code",
     "collapsed": false,
     "input": [
      "TRAIN_A = 'data/BCI_Comp_III_Wads_2004/Subject_A_Train.mat'\n",
      "TRAIN_B = 'data/BCI_Comp_III_Wads_2004/Subject_B_Train.mat'\n",
      "\n",
      "TEST_A = 'data/BCI_Comp_III_Wads_2004/Subject_A_Test.mat'\n",
      "TEST_B = 'data/BCI_Comp_III_Wads_2004/Subject_B_Test.mat'\n",
      "\n",
      "TRUE_LABELS_A = 'WQXPLZCOMRKO97YFZDEZ1DPI9NNVGRQDJCUVRMEUOOOJD2UFYPOO6J7LDGYEGOA5VHNEHBTXOO1TDOILUEE5BFAEEXAW_K4R3MRU'\n",
      "TRUE_LABELS_B = 'MERMIROOMUHJPXJOHUVLEORZP3GLOO7AUFDKEFTWEOOALZOP9ROCGZET1Y19EWX65QUYU7NAK_4YCJDVDNGQXODBEV2B5EFDIDNR'\n",
      "\n",
      "MATRIX = ['abcdef',\n",
      "          'ghijkl',\n",
      "          'mnopqr',\n",
      "          'stuvwx',\n",
      "          'yz1234',\n",
      "          '56789_']\n",
      "\n",
      "B, A = proc.signal.butter(8, [10 / 120], btype='low')\n",
      "# target fs after subsampling\n",
      "TARGET_FS = 20\n",
      "MARKER_DEF_TRAIN = {'target': ['target'], 'nontarget': ['nontarget']}\n",
      "MARKER_DEF_TEST = {'flashing': ['flashing']}\n",
      "SEG_IVAL = [0, 600]\n",
      "#JUMPING_MEANS_IVALS = [[100, 250], [250, 350], [350, 450], [450, 500], [500, 550]]\n",
      "JUMPING_MEANS_IVALS = [100, 170], [150, 200], [100, 200], [200, 250], [250, 300], [300, 350], [350, 400], [400, 500]\n",
      "JUMPING_MEANS_IVALS_A = [50, 180], [210, 280], [280, 375],  [375, 500]\n",
      "JUMPING_MEANS_IVALS_A = [200, 250], [220, 260], [310, 375], [350, 400], [430, 490]\n",
      "JUMPING_MEANS_IVALS_B = [1, 130], [150, 230], [250, 380]\n",
      "JUMPING_MEANS_IVALS_B = [150, 220], [230, 260], [250, 300], [310, 360]\n",
      "CHANNELS = ['c[1-4]', 'cz', 'p[1-4]', 'pz', 'cp[1-4]', 'cpz', 'i.*', 'o.*', 'po[78]']\n",
      "#JUMPING_MEANS_IVALS = [[150, 200], [200, 250], [250, 300]]\n",
      "#CHANNELS = ['fz', 'c[34]', 'cz', 'po[78]']"
     ],
     "language": "python",
     "metadata": {},
     "outputs": [],
     "prompt_number": 2
    },
    {
     "cell_type": "code",
     "collapsed": false,
     "input": [
      "def load_dataset(filename):\n",
      "    # load the matlab data\n",
      "    data_mat = loadmat(filename)\n",
      "    # load the channel names (the same for all datasets\n",
      "    with open('data/BCI_Comp_III_Wads_2004/eloc64.txt') as fh:\n",
      "        data = fh.read()\n",
      "    channels = []\n",
      "    for line in data.splitlines():\n",
      "        if line:\n",
      "            chan = line.split()[-1]\n",
      "            chan = chan.replace('.', '')\n",
      "            channels.append(chan)\n",
      "    # The signal is recorded with 64 channels, bandpass filtered 0.1-60Hz and digitized at 240Hz. The format is Character Epoch x Samples x Channels\n",
      "    data = data_mat['Signal']\n",
      "    data = data.astype('double')\n",
      "    # For each sample: 1 if a row/colum was flashed, 0 otherwise\n",
      "    flashing = data_mat['Flashing'].reshape(-1)\n",
      "    #flashing = np.flatnonzero((np.diff(a) == 1)) + 1\n",
      "    tmp = []\n",
      "    for i, _ in enumerate(flashing):\n",
      "        if i == 0:\n",
      "            tmp.append(flashing[i])\n",
      "            continue\n",
      "        if flashing[i] == flashing[i-1] == 1:\n",
      "            tmp.append(0)\n",
      "            continue\n",
      "        tmp.append(flashing[i])\n",
      "    flashing = np.array(tmp)\n",
      "    # For each sample: 0 when no row/colum was intensified, 1..6 for intensified columns, 7..12 for intensified rows\n",
      "    stimulus_code = data_mat['StimulusCode'].reshape(-1)\n",
      "    stimulus_code = stimulus_code[flashing == 1]\n",
      "    # 0 if no row/col was intensified or the intensified did not contain the target character, 1 otherwise\n",
      "    stimulus_type = data_mat.get('StimulusType', np.array([])).reshape(-1)\n",
      "    # The target characters\n",
      "    target_chars = data_mat.get('TargetChar', np.array([])).reshape(-1)\n",
      "    fs = 240\n",
      "    data = data.reshape(-1, 64)\n",
      "    timeaxis = np.linspace(0, data.shape[0] / fs * 1000, data.shape[0], endpoint=False)\n",
      "    dat = Data(data=data, axes=[timeaxis, channels], names=['time', 'channel'], units=['ms', '#'])\n",
      "    dat.fs = fs\n",
      "    # preparing the markers\n",
      "    target_mask = np.logical_and((flashing == 1), (stimulus_type == 1)) if len(stimulus_type) > 0 else []\n",
      "    nontarget_mask = np.logical_and((flashing == 1), (stimulus_type == 0)) if len(stimulus_type) > 0 else []\n",
      "    flashing = (flashing == 1)\n",
      "    flashing = [[i, 'flashing'] for i in timeaxis[flashing]]\n",
      "    targets = [[i, 'target'] for i in timeaxis[target_mask]]\n",
      "    nontargets = [[i, 'nontarget'] for i in timeaxis[nontarget_mask]]\n",
      "    markers = flashing[:]\n",
      "    markers.extend(targets)\n",
      "    markers.extend(nontargets)\n",
      "    markers.sort()\n",
      "    dat.markers = markers[:]\n",
      "    dat.stimulus_code = stimulus_code\n",
      "    return dat"
     ],
     "language": "python",
     "metadata": {},
     "outputs": [],
     "prompt_number": 3
    },
    {
     "cell_type": "code",
     "collapsed": false,
     "input": [
      "def preprocess_simple(dat, MRK_DEF):\n",
      "    \n",
      "    B, A = proc.signal.butter(5, [10 / 120], btype='low')\n",
      "    dat = proc.filtfilt(dat, B, A)\n",
      "   \n",
      "    dat = proc.subsample(dat, 20)\n",
      "    epo = proc.segment_dat(dat, MRK_DEF, SEG_IVAL)\n",
      "    \n",
      "    # 97% w/ full training set\n",
      "    # < 50% w/o\n",
      "    #if epo.data.shape[0] < 18000:\n",
      "    #    # 150 blocks are reasonable\n",
      "    #    epo.data = epo.data[:150*12]\n",
      "    #    epo.axes[0] = epo.axes[0][:150*12]\n",
      "    \n",
      "    fv = proc.create_feature_vectors(epo)\n",
      "    return fv"
     ],
     "language": "python",
     "metadata": {},
     "outputs": [],
     "prompt_number": 4
    },
    {
     "cell_type": "code",
     "collapsed": false,
     "input": [
      "def preprocessing(dat, MRK_DEF, JUMPING_MEANS_IVALS):\n",
      "    #dat = proc.select_channels(dat, CHANNELS)\n",
      "    \n",
      "    B, A = proc.signal.butter(16, [30 / 120], btype='low') #8\n",
      "    dat = proc.filtfilt(dat, B, A)\n",
      "  \n",
      "    B, A = proc.signal.butter(5, [.4 / 120], btype='high') #5\n",
      "    dat = proc.filtfilt(dat, B, A)\n",
      "    \n",
      "    # this might take a minute\n",
      "    dat = proc.subsample(dat, 120)\n",
      "    epo = proc.segment_dat(dat, MRK_DEF, SEG_IVAL)\n",
      "    # baselineing seems to make the results a bit worse\n",
      "    #epo = proc.correct_for_baseline(epo, [0, 50])\n",
      "    \n",
      "    #if epo.data.shape[0] < 18000:\n",
      "    #    # 150 blocks are reasonable\n",
      "    #    #epo.data = epo.data[:150*12]\n",
      "    #    #epo.axes[0] = epo.axes[0][:150*12]\n",
      "    #    epo.data = epo.data[:15*12]\n",
      "    #    epo.axes[0] = epo.axes[0][:15*12]\n",
      "    \n",
      "    \n",
      "    ## plot classwise average\n",
      "    epo_avg = proc.calculate_classwise_average(epo)\n",
      "       \n",
      "    \n",
      "    plt.figure()\n",
      "    for i, e in enumerate(epo_avg.class_names):\n",
      "        plot.plot_channels(proc.select_epochs(epo_avg, [i]))   \n",
      "    #plt.legend(epo_avg.class_names)\n",
      "    #plt.show()\n",
      "    \n",
      "    ## plot signed r^2 values\n",
      "    plt.figure()\n",
      "    plot.plot_spatio_temporal_r2_values(epo)\n",
      "    #plt.show()\n",
      "    \n",
      "    # create feature vectors\n",
      "    fv = proc.jumping_means(epo, JUMPING_MEANS_IVALS)\n",
      "    fv = proc.create_feature_vectors(fv)\n",
      "        \n",
      "    return fv"
     ],
     "language": "python",
     "metadata": {},
     "outputs": [],
     "prompt_number": 79
    },
    {
     "cell_type": "code",
     "collapsed": false,
     "input": [
      "plt.close('all')\n",
      "acc = 0\n",
      "for subject in range(2):\n",
      "    if subject == 0:\n",
      "        training_set = TRAIN_A\n",
      "        testing_set = TEST_A\n",
      "        labels = TRUE_LABELS_A\n",
      "        jumping_means_ivals = JUMPING_MEANS_IVALS_A\n",
      "    else:\n",
      "        training_set = TRAIN_B\n",
      "        testing_set = TEST_B\n",
      "        labels = TRUE_LABELS_B\n",
      "        jumping_means_ivals = JUMPING_MEANS_IVALS_B\n",
      "    # load the training set\n",
      "    dat = load_dataset(training_set)\n",
      "    \n",
      "    fv_train = preprocessing(dat, MARKER_DEF_TRAIN, jumping_means_ivals)\n",
      "    # train the lda\n",
      "    clf = proc.lda_train(fv_train.data, fv_train.axes[0])\n",
      "    \n",
      "    # load the testing set\n",
      "    dat = load_dataset(testing_set)\n",
      "    fv_test = preprocessing(dat, MARKER_DEF_TEST, jumping_means_ivals)\n",
      "    # predict\n",
      "    lda_out_prob = proc.lda_apply(clf, fv_test.data)\n",
      "    \n",
      "    # unscramble the order of stimuli\n",
      "    unscramble_idx = fv_test.stimulus_code.reshape(100, 15, 12).argsort()\n",
      "    static_idx = np.indices(unscramble_idx.shape)\n",
      "    lda_out_prob = lda_out_prob.reshape(100, 15, 12)\n",
      "    lda_out_prob = lda_out_prob[static_idx[0], static_idx[1], unscramble_idx]\n",
      "    \n",
      "    #lda_out_prob = lda_out_prob[:, :5, :]\n",
      "    \n",
      "    # destil the result of the 15 runs\n",
      "    #lda_out_prob = lda_out_prob.prod(axis=1)\n",
      "    lda_out_prob = lda_out_prob.sum(axis=1)\n",
      "        \n",
      "    # \n",
      "    lda_out_prob = lda_out_prob.argsort()\n",
      "    \n",
      "    cols = lda_out_prob[lda_out_prob <= 5].reshape(100, -1)\n",
      "    rows = lda_out_prob[lda_out_prob > 5].reshape(100, -1)\n",
      "    text = ''\n",
      "    for i in range(100):\n",
      "        row = rows[i][-1]-6\n",
      "        col = cols[i][-1]\n",
      "        letter = MATRIX[row][col]\n",
      "        text += letter\n",
      "    print\n",
      "    print 'Result for subject %d' % (subject+1)\n",
      "    print 'Constructed labels: %s' % text.upper()\n",
      "    print 'True labels       : %s' % labels\n",
      "    a = np.array(list(text.upper()))\n",
      "    b = np.array(list(labels))\n",
      "    accuracy = np.count_nonzero(a == b) / len(a)\n",
      "    print 'Accuracy: %.1f%%' % (accuracy * 100)\n",
      "    acc += accuracy\n",
      "print\n",
      "print 'Overal accuracy: %.1f%%' % (100 * acc / 2)"
     ],
     "language": "python",
     "metadata": {},
     "outputs": [
      {
       "output_type": "stream",
       "stream": "stdout",
       "text": [
        "\n",
        "Result for subject 1\n",
        "Constructed labels: 3QWPLZCOMRQC97YFZDEZ1DPL9NNVGRVDHCUJRMEUO1OJD2UFYPOO6K7LDGYEGOA5VINEHBTXOO1TDOOLUEE5BFAEEXAW_K4R3MRU\n",
        "True labels       : WQXPLZCOMRKO97YFZDEZ1DPI9NNVGRQDJCUVRMEUOOOJD2UFYPOO6J7LDGYEGOA5VHNEHBTXOO1TDOILUEE5BFAEEXAW_K4R3MRU\n",
        "Accuracy: 88.0%\n",
        "\n"
       ]
      },
      {
       "output_type": "stream",
       "stream": "stdout",
       "text": [
        "Result for subject 2\n",
        "Constructed labels: MERMIROOMUYJPXJOHUVLBORZP3GLOO7AUFDKEFTVEMOALZOP9R1CGZE11M19CWX65QUYU7NAK_4YCJDVDNGPXOJBEV2B5EFDIDNR\n",
        "True labels       : MERMIROOMUHJPXJOHUVLEORZP3GLOO7AUFDKEFTWEOOALZOP9ROCGZET1Y19EWX65QUYU7NAK_4YCJDVDNGQXODBEV2B5EFDIDNR\n",
        "Accuracy: 90.0%\n",
        "\n",
        "Overal accuracy: 89.0%\n"
       ]
      }
     ],
     "prompt_number": 80
    },
    {
     "cell_type": "code",
     "collapsed": false,
     "input": [
      "plt.show()"
     ],
     "language": "python",
     "metadata": {},
     "outputs": [],
     "prompt_number": 81
    },
    {
     "cell_type": "code",
     "collapsed": false,
     "input": [],
     "language": "python",
     "metadata": {},
     "outputs": [],
     "prompt_number": 7
    },
    {
     "cell_type": "code",
     "collapsed": false,
     "input": [
      "# current best: 91,5\n",
      "# vlt jumping means ivals pro subject?"
     ],
     "language": "python",
     "metadata": {},
     "outputs": [],
     "prompt_number": 8
    },
    {
     "cell_type": "code",
     "collapsed": false,
     "input": [
      "# TODO toolbox method for sorting channels front-back left-right"
     ],
     "language": "python",
     "metadata": {},
     "outputs": [],
     "prompt_number": 9
    },
    {
     "cell_type": "code",
     "collapsed": false,
     "input": [
      "#w/o jumping means 83%/85% accuracy\n",
      "\n",
      "# check how good the accuricy is after 5 trials to compare with the downsampling-no-jumping-means-solution\n",
      "\n",
      "# also test with a fraction of the training data (1/10th)"
     ],
     "language": "python",
     "metadata": {},
     "outputs": [],
     "prompt_number": 10
    },
    {
     "cell_type": "code",
     "collapsed": false,
     "input": [
      "proc.signal.buttord(.4/ 120, .2 / 120, 3, 50)"
     ],
     "language": "python",
     "metadata": {},
     "outputs": [
      {
       "output_type": "pyout",
       "prompt_number": 50,
       "text": [
        "(9, 0.0031595389423700795)"
       ]
      }
     ],
     "prompt_number": 50
    },
    {
     "cell_type": "code",
     "collapsed": false,
     "input": [
      "proc.signal.buttord(30 / 120, 35/ 120, 3, 20)"
     ],
     "language": "python",
     "metadata": {},
     "outputs": [
      {
       "output_type": "pyout",
       "prompt_number": 73,
       "text": [
        "(14, 0.25232925000770473)"
       ]
      }
     ],
     "prompt_number": 73
    },
    {
     "cell_type": "code",
     "collapsed": false,
     "input": [],
     "language": "python",
     "metadata": {},
     "outputs": []
    }
   ],
   "metadata": {}
  }
 ]
}