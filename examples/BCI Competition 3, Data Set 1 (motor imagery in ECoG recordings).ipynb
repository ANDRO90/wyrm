{
 "metadata": {
  "name": "BCI Competition 3, Data Set 1 (motor imagery in ECoG recordings)"
 },
 "nbformat": 3,
 "nbformat_minor": 0,
 "worksheets": [
  {
   "cells": [
    {
     "cell_type": "code",
     "collapsed": false,
     "input": [
      "from __future__ import division\n",
      "\n",
      "import numpy as np\n",
      "import scipy as sp\n",
      "from scipy.io import loadmat\n",
      "from sklearn.lda import LDA\n",
      "from matplotlib import pyplot as plt\n",
      "\n",
      "from wyrm import processing as proc\n",
      "from wyrm.types import Data\n",
      "from wyrm import plot"
     ],
     "language": "python",
     "metadata": {},
     "outputs": [],
     "prompt_number": 1
    },
    {
     "cell_type": "code",
     "collapsed": false,
     "input": [
      "TRAINING_DATA = 'data/BCI_COMP_III_Tuebingen/Competition_train.mat'\n",
      "TEST_DATA = 'data/BCI_COMP_III_Tuebingen/Competition_test.mat'\n",
      "TRUE_LABELS = 'data/BCI_COMP_III_Tuebingen/true_labels.txt'"
     ],
     "language": "python",
     "metadata": {},
     "outputs": [],
     "prompt_number": 2
    },
    {
     "cell_type": "code",
     "collapsed": false,
     "input": [
      "# load the training data\n",
      "training_data_mat = loadmat(TRAINING_DATA)\n",
      "data = training_data_mat['X'].astype('double')\n",
      "data = data.swapaxes(-1, -2)\n",
      "labels = training_data_mat['Y'].astype('int').ravel()\n",
      "# convert into wyrm Data\n",
      "axes = [np.arange(i) for i in data.shape]\n",
      "axes[0] = labels\n",
      "axes[2] = [str(i) for i in range(data.shape[2])]\n",
      "names = ['Class', 'Time', 'Channel']\n",
      "units = ['#', 'ms', '#']\n",
      "dat_train = Data(data=data, axes=axes, names=names, units=units)\n",
      "dat_train.fs = 1000\n",
      "dat_train.class_names = ['pinky', 'tongue']\n",
      "\n",
      "# load the test data\n",
      "test_data_mat = loadmat(TEST_DATA)\n",
      "data = test_data_mat['X'].astype('double')\n",
      "data = data.swapaxes(-1, -2)\n",
      "# convert into wyrm Data\n",
      "axes = [np.arange(i) for i in data.shape]\n",
      "axes[2] = [str(i) for i in range(data.shape[2])]\n",
      "names = ['Epoch', 'Time', 'Channel']\n",
      "units = ['#', 'ms', '#']\n",
      "dat_test = Data(data=data, axes=axes, names=names, units=units)\n",
      "dat_test.fs = 1000\n",
      "\n",
      "# load true labels\n",
      "true_labels = np.loadtxt(TRUE_LABELS).astype('int')\n",
      "\n",
      "# map labels -1 -> 0\n",
      "dat_test.axes[0][dat_test.axes[0] == -1] = 0\n",
      "dat_train.axes[0][dat_train.axes[0] == -1] = 0\n",
      "true_labels[true_labels == -1] = 0"
     ],
     "language": "python",
     "metadata": {},
     "outputs": [],
     "prompt_number": 3
    },
    {
     "cell_type": "code",
     "collapsed": false,
     "input": [
      "def preprocess(data, w=None):\n",
      "    dat = data.copy()\n",
      "    \n",
      "    dat = proc.select_channels(dat, ['28', '29', '30', '31', '36', '37', '38', '39'])\n",
      "    \n",
      "    # TODO: create a spectrum to see where to filter exactly\n",
      "\n",
      "    fs_n = dat.fs / 2\n",
      "    b, a = proc.signal.butter(8, [18 / fs_n], btype='low')\n",
      "    # 10-12hz ist mi\n",
      "    dat = proc.lfilter(dat, b, a)\n",
      "    dat = proc.subsample(dat, 20)\n",
      "    # TODO: there's a bug in variance (and log?) regarding the axes (pop)\n",
      "    #if w is None:\n",
      "    #    c1 = proc.select_classes(dat, [-1]).data\n",
      "    #    c2 = proc.select_classes(dat, [1]).data\n",
      "    #    w, _, _ = proc.calculate_csp(c1, c2)\n",
      "    #    w = w[:, (0, -1)]\n",
      "    #dat.data = np.array([np.dot(dat.data[i], w) for i in range(dat.data.shape[0])])\n",
      "    #dat.axes[2] = ['csp %i' % i for i in range(dat.data.shape[-1])]\n",
      "        \n",
      "    dat = proc.variance(dat)\n",
      "    dat = proc.logarithm(dat)\n",
      "    \n",
      "    \n",
      "    return dat, w\n",
      "    fv = proc.create_feature_vectors(dat)\n",
      "    return fv"
     ],
     "language": "python",
     "metadata": {},
     "outputs": [],
     "prompt_number": 4
    },
    {
     "cell_type": "code",
     "collapsed": false,
     "input": [
      "def preprocess2(data, w=None):\n",
      "    dat = data.copy()\n",
      "    #dat = proc.select_channels(dat, ['28', '29', '30', '31', '36', '37', '38', '39'])\n",
      "    #dat = proc.select_channels(dat, ['59'])\n",
      "    #plot.plot_channels(proc.select_epochs(dat, [0]))\n",
      "    fs_n = dat.fs / 2\n",
      "    \n",
      "    #b, a = proc.signal.butter(5, [20 / fs_n], btype='low')\n",
      "    #dat = proc.lfilter(dat, b, a)\n",
      "    #plot.plot_channels(proc.select_epochs(dat, [0]))\n",
      "    #plt.show()\n",
      "    #b, a = proc.signal.butter(5, [2 / fs_n], btype='high')\n",
      "    #dat = proc.lfilter(dat, b, a)\n",
      "        \n",
      "    \n",
      "    dat = proc.subsample(dat, 50)\n",
      "    #dat = proc.select_ival(dat, [0, 1000])\n",
      "    #dat_spec = proc.spectrum(dat)\n",
      "    #dat_spec_avg = proc.calculate_classwise_average(dat_spec)\n",
      "    #print dat_spec_avg.data.shape\n",
      "    #plt.figure(1)\n",
      "    #correction = 1 / dat_spec.axes[1]\n",
      "    #dat_spec_avg.data[0] = dat_spec_avg.data[0] - correction\n",
      "    #plot.plot_channels(proc.select_epochs(dat_spec_avg, [0]))\n",
      "    #plt.plot(correction)\n",
      "    #plt.figure(2)\n",
      "    #plot.plot_channels(proc.select_epochs(dat_spec_avg, [1]))\n",
      "    #plt.show()\n",
      "    #dat = proc.select_ival(dat, [0, 1000])\n",
      "    #plot.plot_channels(proc.select_epochs(dat, [0]))\n",
      "    #plt.show()\n",
      "    \n",
      "    # TODO: there's a bug in variance (and log?) regarding the axes (pop)\n",
      "    #if w is None:\n",
      "    #    c1 = proc.select_classes(dat, [0]).data\n",
      "    #    c2 = proc.select_classes(dat, [1]).data\n",
      "    #    w, _, _ = proc.calculate_csp(c1, c2)\n",
      "    #    w = w[:, (0, -1)]\n",
      "    #dat.data = np.array([np.dot(dat.data[i], w) for i in range(dat.data.shape[0])])\n",
      "    #dat.axes[2] = ['csp %i' % i for i in range(dat.data.shape[-1])]\n",
      "    \n",
      "    # 67%\n",
      "    dat = proc.spectrum(dat)\n",
      "    dat.data = np.square(dat.data)\n",
      "    dat = proc.select_ival(dat, [9, 13])\n",
      "      \n",
      "    \n",
      "    \n",
      "    #dat = proc.variance(dat)\n",
      "    #dat = proc.logarithm(dat)\n",
      "    #return dat, w\n",
      "    \n",
      "    fv = proc.create_feature_vectors(dat)\n",
      "    return fv, w"
     ],
     "language": "python",
     "metadata": {},
     "outputs": [],
     "prompt_number": 11
    },
    {
     "cell_type": "code",
     "collapsed": false,
     "input": [
      "fv_train, w = preprocess2(dat_train)\n",
      "fv_test, _ = preprocess2(dat_test, w)"
     ],
     "language": "python",
     "metadata": {},
     "outputs": [],
     "prompt_number": 12
    },
    {
     "cell_type": "code",
     "collapsed": false,
     "input": [
      "lda = LDA()\n",
      "lda.fit(fv_train.data, fv_train.axes[0])\n",
      "result = lda.predict(fv_test.data)\n",
      "print 'Accuracy %.2f%%' % ((result == true_labels).sum() / len(result))"
     ],
     "language": "python",
     "metadata": {},
     "outputs": [
      {
       "output_type": "stream",
       "stream": "stdout",
       "text": [
        "Accuracy 0.80%\n"
       ]
      }
     ],
     "prompt_number": 13
    },
    {
     "cell_type": "code",
     "collapsed": false,
     "input": [
      "fs_n = dat_train.fs\n",
      "b, a = proc.signal.butter(8, [18 / fs_n], btype='low')\n",
      "dat = proc.lfilter(dat_train, b, a)\n",
      "dat = proc.subsample(dat, 20)\n",
      "dat_c1 = proc.select_classes(dat, [-1])\n",
      "dat_c2 = proc.select_classes(dat, [1])"
     ],
     "language": "python",
     "metadata": {},
     "outputs": [],
     "prompt_number": 373
    },
    {
     "cell_type": "code",
     "collapsed": false,
     "input": [
      "for i in range(0, 16, 2):\n",
      "    plt.subplot(1, 16, i)\n",
      "    plt.specgram(dat_c1.data[10, :, i], Fs=dat_c1.fs)\n",
      "    plt.subplot(1, 16, i+1)\n",
      "    plt.specgram(dat_c2.data[10, :, i], Fs=dat_c2.fs)\n",
      "plt.show()"
     ],
     "language": "python",
     "metadata": {},
     "outputs": [],
     "prompt_number": 374
    },
    {
     "cell_type": "code",
     "collapsed": false,
     "input": [
      "ax = -1\n",
      "length = ft.shape[ax]\n",
      "\n",
      "a = np.ones((20, 30, 40))\n",
      "ft = proc.sp.fftpack.fft(a, axis=ax)\n",
      "print ft.take(np.arange(length)[1:length/2], axis=ax).shape\n",
      "print proc.sp.fftpack.fftfreq(length)[1:length/2].shape"
     ],
     "language": "python",
     "metadata": {},
     "outputs": [
      {
       "output_type": "stream",
       "stream": "stdout",
       "text": [
        "(20, 30, 19)\n",
        "(19,)\n"
       ]
      }
     ],
     "prompt_number": 81
    },
    {
     "cell_type": "code",
     "collapsed": false,
     "input": [],
     "language": "python",
     "metadata": {},
     "outputs": []
    }
   ],
   "metadata": {}
  }
 ]
}