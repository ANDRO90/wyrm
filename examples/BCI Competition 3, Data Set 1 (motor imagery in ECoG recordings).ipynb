{
 "metadata": {
  "name": ""
 },
 "nbformat": 3,
 "nbformat_minor": 0,
 "worksheets": [
  {
   "cells": [
    {
     "cell_type": "code",
     "collapsed": false,
     "input": [
      "from __future__ import division\n",
      "\n",
      "import numpy as np\n",
      "import scipy as sp\n",
      "from scipy.io import loadmat\n",
      "from matplotlib import pyplot as plt\n",
      "import matplotlib as mpl\n",
      "\n",
      "from wyrm import processing as proc\n",
      "from wyrm.types import Data\n",
      "from wyrm import plot"
     ],
     "language": "python",
     "metadata": {},
     "outputs": [],
     "prompt_number": 1
    },
    {
     "cell_type": "code",
     "collapsed": false,
     "input": [
      "TRAINING_DATA = 'data/BCI_COMP_III_Tuebingen/Competition_train.mat'\n",
      "TEST_DATA = 'data/BCI_COMP_III_Tuebingen/Competition_test.mat'\n",
      "TRUE_LABELS = 'data/BCI_COMP_III_Tuebingen/true_labels.txt'"
     ],
     "language": "python",
     "metadata": {},
     "outputs": [],
     "prompt_number": 2
    },
    {
     "cell_type": "code",
     "collapsed": false,
     "input": [
      "# load the training data\n",
      "training_data_mat = loadmat(TRAINING_DATA)\n",
      "data = training_data_mat['X'].astype('double')\n",
      "data = data.swapaxes(-1, -2)\n",
      "labels = training_data_mat['Y'].astype('int').ravel()\n",
      "# convert into wyrm Data\n",
      "axes = [np.arange(i) for i in data.shape]\n",
      "axes[0] = labels\n",
      "axes[2] = [str(i) for i in range(data.shape[2])]\n",
      "names = ['Class', 'Time', 'Channel']\n",
      "units = ['#', 'ms', '#']\n",
      "dat_train = Data(data=data, axes=axes, names=names, units=units)\n",
      "dat_train.fs = 1000\n",
      "dat_train.class_names = ['pinky', 'tongue']\n",
      "\n",
      "# load the test data\n",
      "test_data_mat = loadmat(TEST_DATA)\n",
      "data = test_data_mat['X'].astype('double')\n",
      "data = data.swapaxes(-1, -2)\n",
      "# convert into wyrm Data\n",
      "axes = [np.arange(i) for i in data.shape]\n",
      "axes[2] = [str(i) for i in range(data.shape[2])]\n",
      "names = ['Epoch', 'Time', 'Channel']\n",
      "units = ['#', 'ms', '#']\n",
      "dat_test = Data(data=data, axes=axes, names=names, units=units)\n",
      "dat_test.fs = 1000\n",
      "\n",
      "# load true labels\n",
      "true_labels = np.loadtxt(TRUE_LABELS).astype('int')\n",
      "\n",
      "# map labels -1 -> 0\n",
      "dat_test.axes[0][dat_test.axes[0] == -1] = 0\n",
      "dat_train.axes[0][dat_train.axes[0] == -1] = 0\n",
      "true_labels[true_labels == -1] = 0"
     ],
     "language": "python",
     "metadata": {},
     "outputs": [],
     "prompt_number": 3
    },
    {
     "cell_type": "code",
     "collapsed": false,
     "input": [
      "def plot_csp_pattern(a):\n",
      "    # get symmetric min/max values for the color bar from first and last column of the pattern\n",
      "    maxv = np.max(np.abs(a[:, [0, -1]]))\n",
      "    minv = -maxv\n",
      "    \n",
      "    # setup nice colors for the plot\n",
      "    magenta = np.array((211, 54, 130)) / 256\n",
      "    blue = np.array((108, 113, 196)) / 256\n",
      "    white = np.array((256, 256, 256)) / 256\n",
      "\n",
      "    cdict = {\n",
      "        'red'  :  ((0., blue[0], blue[0]), (0.5, white[0], white[0]), (1., magenta[0], magenta[0])),\n",
      "        'green':  ((0., blue[1], blue[1]), (0.5, white[1], white[1]), (1., magenta[1], magenta[1])),\n",
      "        'blue' :  ((0., blue[2], blue[2]), (0.5, white[2], white[2]), (1., magenta[2], magenta[2]))\n",
      "    }\n",
      "    my_cmap = mpl.colors.LinearSegmentedColormap('my_colormap', cdict, 1024)\n",
      "  \n",
      "    im_args = {'interpolation' : 'None', \n",
      "           'cmap' : my_cmap,\n",
      "           'vmin' : minv, \n",
      "           'vmax' : maxv\n",
      "           }\n",
      "\n",
      "    # plot\n",
      "    ax1 = plt.subplot2grid((1,11), (0,0), colspan=5)\n",
      "    ax2 = plt.subplot2grid((1,11), (0,5), colspan=5)\n",
      "    ax3 = plt.subplot2grid((1,11), (0,10))\n",
      "\n",
      "    ax1.imshow(a[:, 0].reshape(8, 8), **im_args)\n",
      "    ax1.set_title('Pinky')\n",
      "\n",
      "    ax = ax2.imshow(a[:, -1].reshape(8, 8), **im_args)\n",
      "    ax2.set_title('Tongue')\n",
      "\n",
      "    plt.colorbar(ax, cax=ax3)\n",
      "\n",
      "    plt.tight_layout()\n",
      "    plt.show()"
     ],
     "language": "python",
     "metadata": {},
     "outputs": [],
     "prompt_number": 4
    },
    {
     "cell_type": "code",
     "collapsed": false,
     "input": [
      "def preprocess(data, filt=None):\n",
      "    dat = data.copy()\n",
      "    fs_n = dat.fs / 2\n",
      "    \n",
      "    b, a = proc.signal.butter(5, [13 / fs_n], btype='low')\n",
      "    dat = proc.filtfilt(dat, b, a)\n",
      "    \n",
      "    b, a = proc.signal.butter(5, [9 / fs_n], btype='high')\n",
      "    dat = proc.filtfilt(dat, b, a)\n",
      "    \n",
      "    dat = proc.subsample(dat, 50)\n",
      "\n",
      "    if filt is None:\n",
      "        filt, pattern, _ = proc.calculate_csp(dat)\n",
      "        plot_csp_pattern(pattern)\n",
      "        filt = filt[:, [0, -1]]\n",
      "    dat.data = np.array([np.dot(dat.data[i], filt) for i in range(dat.data.shape[0])])\n",
      "    dat.axes[2] = ['csp %i' % i for i in range(dat.data.shape[-1])]\n",
      "    \n",
      "    dat = proc.variance(dat)\n",
      "    dat = proc.logarithm(dat)\n",
      "    return dat, filt"
     ],
     "language": "python",
     "metadata": {},
     "outputs": [],
     "prompt_number": 5
    },
    {
     "cell_type": "code",
     "collapsed": false,
     "input": [
      "fv_train, filt = preprocess(dat_train)\n",
      "fv_test, _ = preprocess(dat_test, filt)"
     ],
     "language": "python",
     "metadata": {},
     "outputs": [],
     "prompt_number": 6
    },
    {
     "cell_type": "code",
     "collapsed": false,
     "input": [
      "clf = proc.lda_train(fv_train.data, fv_train.axes[0])\n",
      "result = proc.lda_apply(clf, fv_test.data)\n",
      "result = (np.sign(result) + 1) / 2\n",
      "print 'LDA Accuracy %.2f%%' % ((result == true_labels).sum() / len(result))"
     ],
     "language": "python",
     "metadata": {},
     "outputs": [
      {
       "output_type": "stream",
       "stream": "stdout",
       "text": [
        "LDA Accuracy 0.92%\n"
       ]
      }
     ],
     "prompt_number": 7
    },
    {
     "cell_type": "code",
     "collapsed": false,
     "input": [
      "plt.show()"
     ],
     "language": "python",
     "metadata": {},
     "outputs": [],
     "prompt_number": 8
    },
    {
     "cell_type": "code",
     "collapsed": false,
     "input": [],
     "language": "python",
     "metadata": {},
     "outputs": [],
     "prompt_number": 8
    }
   ],
   "metadata": {}
  }
 ]
}