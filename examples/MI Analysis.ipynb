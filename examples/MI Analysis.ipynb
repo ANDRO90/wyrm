{
 "metadata": {
  "name": "MI Analysis"
 },
 "nbformat": 3,
 "nbformat_minor": 0,
 "worksheets": [
  {
   "cells": [
    {
     "cell_type": "code",
     "collapsed": false,
     "input": [
      "from __future__ import division\n",
      "\n",
      "import numpy as np\n",
      "from matplotlib import pyplot as plt\n",
      "\n",
      "from wyrm import misc\n",
      "from wyrm import plot"
     ],
     "language": "python",
     "metadata": {},
     "outputs": [],
     "prompt_number": 1
    },
    {
     "cell_type": "code",
     "collapsed": false,
     "input": [
      "cnt = misc.load_brain_vision_data('data/mi/VPkg_08_08_07/imag_arrowVPkg.vhdr')"
     ],
     "language": "python",
     "metadata": {},
     "outputs": [],
     "prompt_number": 2
    },
    {
     "cell_type": "code",
     "collapsed": false,
     "input": [
      "# remove unneeded channels\n",
      "#cnt = misc.remove_channels(cnt, ['EMG.*', 'EOG.*', 'FT.*', 'TP.*', 'I.*', 'P9', 'P10', 'OI.*'])\n",
      "cnt = misc.remove_channels(cnt, ['EMG.*', 'EOG.*'])"
     ],
     "language": "python",
     "metadata": {},
     "outputs": [],
     "prompt_number": 3
    },
    {
     "cell_type": "code",
     "collapsed": false,
     "input": [
      "# band pass data\n",
      "cnt = misc.band_pass(cnt, 10, 14)"
     ],
     "language": "python",
     "metadata": {},
     "outputs": [],
     "prompt_number": 4
    },
    {
     "cell_type": "code",
     "collapsed": false,
     "input": [
      "# subsampling\n",
      "cnt = misc.subsample(cnt, 10)"
     ],
     "language": "python",
     "metadata": {},
     "outputs": [],
     "prompt_number": 5
    },
    {
     "cell_type": "code",
     "collapsed": false,
     "input": [
      "# for mi we use ~750-3500ms range\n",
      "mrk_def = {'class 1': ['S  1'],\n",
      "           'class 2': ['S  2'],\n",
      "           'class 3': ['S  3']\n",
      "           }\n",
      "epo = misc.cnt_to_epo(cnt, mrk_def, [-100, 3500])\n",
      "epo = misc.correct_for_baseline(epo, [-100, 0])"
     ],
     "language": "python",
     "metadata": {},
     "outputs": [],
     "prompt_number": 6
    },
    {
     "cell_type": "code",
     "collapsed": false,
     "input": [
      "epo_avg = misc.calculate_classwise_average(epo)\n",
      "for e in epo_avg:\n",
      "    plot.plot_channels(e)\n",
      "plt.show()"
     ],
     "language": "python",
     "metadata": {},
     "outputs": [],
     "prompt_number": 7
    },
    {
     "cell_type": "code",
     "collapsed": false,
     "input": [
      "epo = misc.select_ival(epo, [750, 3500])\n"
     ],
     "language": "python",
     "metadata": {},
     "outputs": [],
     "prompt_number": 8
    },
    {
     "cell_type": "code",
     "collapsed": false,
     "input": [
      "data_left = epo.data[epo.classes == 0]\n",
      "data_right = epo.data[epo.classes == 1]\n",
      "w, a, d = misc.calculate_csp(data_left, data_right)\n",
      "# the interesting channels are usuall c3, c4 and cz\n",
      "for ii, i in enumerate([0, 1, 2, -3, -2, -1]):\n",
      "    plt.subplot(2, 3, ii+1)\n",
      "    plot.plot_scalp(a[:,i], epo.channels)\n",
      "    plt.title(i)\n",
      "plt.show()\n"
     ],
     "language": "python",
     "metadata": {},
     "outputs": [],
     "prompt_number": 9
    },
    {
     "cell_type": "code",
     "collapsed": false,
     "input": [
      "data_left = epo.data[epo.classes == 0]\n",
      "data_right = epo.data[epo.classes == 2]\n",
      "w, a, d = misc.calculate_csp(data_left, data_right)\n",
      "# the interesting channels are usuall c3, c4 and cz\n",
      "for ii, i in enumerate([0, 1, 2, -3, -2, -1]):\n",
      "    plt.subplot(2, 3, ii+1)\n",
      "    plot.plot_scalp(a[:,i], epo.channels)\n",
      "    plt.title(i)\n",
      "plt.show()\n"
     ],
     "language": "python",
     "metadata": {},
     "outputs": [],
     "prompt_number": 10
    },
    {
     "cell_type": "code",
     "collapsed": false,
     "input": [
      "data_left = epo.data[epo.classes == 1]\n",
      "data_right = epo.data[epo.classes == 2]\n",
      "w, a, d = misc.calculate_csp(data_left, data_right)\n",
      "# the interesting channels are usuall c3, c4 and cz\n",
      "for ii, i in enumerate([0, 1, 2, -3, -2, -1]):\n",
      "    plt.subplot(2, 3, ii+1)\n",
      "    plot.plot_scalp(a[:,i], epo.channels)\n",
      "    plt.title(i)\n",
      "plt.show()\n"
     ],
     "language": "python",
     "metadata": {},
     "outputs": [],
     "prompt_number": 11
    },
    {
     "cell_type": "code",
     "collapsed": false,
     "input": [],
     "language": "python",
     "metadata": {},
     "outputs": []
    }
   ],
   "metadata": {}
  }
 ]
}