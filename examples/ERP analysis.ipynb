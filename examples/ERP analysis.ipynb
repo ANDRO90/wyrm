{
 "metadata": {
  "name": "ERP analysis"
 },
 "nbformat": 3,
 "nbformat_minor": 0,
 "worksheets": [
  {
   "cells": [
    {
     "cell_type": "code",
     "collapsed": false,
     "input": [
      "from __future__ import division\n",
      "\n",
      "import logging\n",
      "\n",
      "import numpy as np\n",
      "\n",
      "from wyrm import misc\n",
      "from wyrm import plot\n",
      "\n",
      "logging.basicConfig(level=logging.NOTSET)\n",
      "logger = logging.getLogger(__name__)"
     ],
     "language": "python",
     "metadata": {},
     "outputs": [],
     "prompt_number": 1
    },
    {
     "cell_type": "code",
     "collapsed": false,
     "input": [
      "# load bv data into cnt\n",
      "cnt = misc.load_brain_vision_data('examples/data/OnlineTrainFileVPfaz.vhdr')"
     ],
     "language": "python",
     "metadata": {},
     "outputs": [],
     "prompt_number": 2
    },
    {
     "cell_type": "code",
     "collapsed": false,
     "input": [
      "# remove unneeded channels\n",
      "cnt = misc.remove_channels(cnt, ['EOG.*', 'Mas.*'])"
     ],
     "language": "python",
     "metadata": {},
     "outputs": [],
     "prompt_number": 3
    },
    {
     "cell_type": "code",
     "collapsed": false,
     "input": [
      "# bandpass filter the data\n",
      "cnt = misc.band_pass(cnt, 8, 12)"
     ],
     "language": "python",
     "metadata": {},
     "outputs": [],
     "prompt_number": 4
    },
    {
     "cell_type": "code",
     "collapsed": false,
     "input": [
      "# subsampling by factor 10\n",
      "cnt = misc.subsample(cnt, 10)"
     ],
     "language": "python",
     "metadata": {},
     "outputs": [],
     "prompt_number": 5
    },
    {
     "cell_type": "code",
     "collapsed": false,
     "input": [
      "# epoch the data\n",
      "mrk_def = {'std': ['S %2i' % i for i in range(2, 7)],\n",
      "           'dev': ['S %2i' % i for i in range(12, 17)]\n",
      "           }\n",
      "epo = misc.cnt_to_epo(cnt, mrk_def, [200, 600])\n"
     ],
     "language": "python",
     "metadata": {},
     "outputs": [],
     "prompt_number": 10
    },
    {
     "cell_type": "code",
     "collapsed": false,
     "input": [
      "# no need to do that, since we bandpass-filtered the data\n",
      "#epo2 = misc.correct_for_baseline(epo, [0, 100])"
     ],
     "language": "python",
     "metadata": {},
     "outputs": [],
     "prompt_number": 11
    },
    {
     "cell_type": "code",
     "collapsed": false,
     "input": [
      "avg_epo = misc.calculate_classwise_average(epo)"
     ],
     "language": "python",
     "metadata": {},
     "outputs": [],
     "prompt_number": 12
    },
    {
     "cell_type": "code",
     "collapsed": false,
     "input": [
      "for i, e in enumerate(avg_epo):\n",
      "    misc.plot_channels(e)\n",
      "plot.plt.legend(avg_epo.class_names)\n",
      "misc.plt.show()"
     ],
     "language": "python",
     "metadata": {},
     "outputs": [],
     "prompt_number": 13
    },
    {
     "cell_type": "code",
     "collapsed": false,
     "input": [
      "#ival = [0,660]\n",
      "#t = np.linspace(ival[0], ival[1], (epo.fs / 1000) * ival[1] - ival[0])\n",
      "#y = epo.data[10,:,20]\n",
      "\n",
      "#print t\n",
      "#print y\n",
      "#plot.plt.plot(t, y)\n",
      "#misc.plt.show()"
     ],
     "language": "python",
     "metadata": {},
     "outputs": [
      {
       "output_type": "stream",
       "stream": "stdout",
       "text": [
        "[   0.           10.15384615   20.30769231   30.46153846   40.61538462\n",
        "   50.76923077   60.92307692   71.07692308   81.23076923   91.38461538\n",
        "  101.53846154  111.69230769  121.84615385  132.          142.15384615\n",
        "  152.30769231  162.46153846  172.61538462  182.76923077  192.92307692\n",
        "  203.07692308  213.23076923  223.38461538  233.53846154  243.69230769\n",
        "  253.84615385  264.          274.15384615  284.30769231  294.46153846\n",
        "  304.61538462  314.76923077  324.92307692  335.07692308  345.23076923\n",
        "  355.38461538  365.53846154  375.69230769  385.84615385  396.\n",
        "  406.15384615  416.30769231  426.46153846  436.61538462  446.76923077\n",
        "  456.92307692  467.07692308  477.23076923  487.38461538  497.53846154\n",
        "  507.69230769  517.84615385  528.          538.15384615  548.30769231\n",
        "  558.46153846  568.61538462  578.76923077  588.92307692  599.07692308\n",
        "  609.23076923  619.38461538  629.53846154  639.69230769  649.84615385\n",
        "  660.        ]\n",
        "[ 19.75180012   3.40544756 -14.7389334  -25.81717488 -24.36126767\n",
        " -10.69697902   9.13726937  26.19728687  32.59770908  25.31639073\n",
        "   7.51065305 -13.23886449 -28.59945198 -32.95458033 -25.32282229\n",
        "  -9.287777     8.54713364  21.4711066   25.45712656  20.63309573\n",
        "  10.61049411   0.17226939  -7.35851948 -11.150481   -12.16623227\n",
        " -11.67926973 -10.18937571  -7.11272112  -1.69435102   5.57975978\n",
        "  12.43282856  15.90174982  13.94760902   6.93394286  -2.343322\n",
        " -10.13621011 -13.58355076 -11.79588664  -6.09735039   0.72579446\n",
        "   5.73635748   7.22824459   5.27331665   1.55301514  -1.61647972\n",
        "  -2.56317062  -1.05937103   1.70136786   3.84062824   3.93031756\n",
        "   1.67676746  -1.86335287  -4.94207576  -6.13006126  -4.93146616\n",
        "  -1.9771209    1.22565768   3.17567984   3.09014691   1.54937753\n",
        "   0.07205394  -0.07572064   1.26711792   3.21103666   4.46388456\n",
        "   4.22540627]\n"
       ]
      }
     ],
     "prompt_number": 10
    }
   ],
   "metadata": {}
  }
 ]
}